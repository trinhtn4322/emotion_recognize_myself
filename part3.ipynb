{
 "cells": [
  {
   "cell_type": "code",
   "execution_count": 1,
   "metadata": {
    "id": "W1Szqv80Zt0B"
   },
   "outputs": [],
   "source": [
    "import tensorflow as tf\n",
    "import numpy as np\n",
    "from sklearn.model_selection import train_test_split\n",
    "from tensorflow.keras.models import Model\n",
    "from tensorflow.keras.models import Sequential\n",
    "from tensorflow.keras.layers import BatchNormalization\n",
    "from tensorflow.keras.layers import AveragePooling2D\n",
    "from tensorflow.keras.layers import MaxPooling2D\n",
    "from tensorflow.keras.layers import Conv2D\n",
    "from tensorflow.keras.layers import Activation\n",
    "from tensorflow.keras.layers import Dropout\n",
    "from tensorflow.keras.layers import Flatten\n",
    "from tensorflow.keras.layers import Input\n",
    "from tensorflow.keras.layers import Dense\n",
    "from tensorflow.keras.layers import concatenate\n",
    "from tensorflow.keras.optimizers import Adam\n",
    "from tensorflow.keras.callbacks import ModelCheckpoint\n"
   ]
  },
  {
   "cell_type": "markdown",
   "metadata": {
    "id": "LgPmlKKQjfSs"
   },
   "source": [
    "## Import Data"
   ]
  },
  {
   "cell_type": "code",
   "execution_count": 2,
   "metadata": {
    "id": "QobHdT5McM8f"
   },
   "outputs": [],
   "source": [
    "x_train=np.load('x_train.npy')"
   ]
  },
  {
   "cell_type": "code",
   "execution_count": 3,
   "metadata": {
    "id": "PSZrOU-Rkdcg"
   },
   "outputs": [],
   "source": [
    "y_train=np.load('y_train.npy')"
   ]
  },
  {
   "cell_type": "code",
   "execution_count": 4,
   "metadata": {
    "id": "0F6KPxbbmvlv"
   },
   "outputs": [],
   "source": [
    "x_valid=np.load('x_valid.npy')"
   ]
  },
  {
   "cell_type": "code",
   "execution_count": 5,
   "metadata": {
    "id": "9kvBoiyPmvoe"
   },
   "outputs": [],
   "source": [
    "y_valid=np.load('y_valid.npy')"
   ]
  },
  {
   "cell_type": "markdown",
   "metadata": {
    "id": "hTCThKu-oW0f"
   },
   "source": [
    "## Build Model"
   ]
  },
  {
   "cell_type": "code",
   "execution_count": 6,
   "metadata": {
    "id": "8OPO1eb_oWl2"
   },
   "outputs": [],
   "source": [
    "model= Sequential()"
   ]
  },
  {
   "cell_type": "code",
   "execution_count": 7,
   "metadata": {
    "id": "Is4a3A8Eoba3"
   },
   "outputs": [],
   "source": [
    "input_shape=(128,128,3)\n",
    "classes = 5"
   ]
  },
  {
   "cell_type": "code",
   "execution_count": 8,
   "metadata": {
    "id": "ORJRHW1yoin0"
   },
   "outputs": [],
   "source": [
    "model.add(Conv2D(32,(3,3), padding='same',input_shape=input_shape))\n",
    "model.add(Activation('relu'))\n",
    "model.add(BatchNormalization())"
   ]
  },
  {
   "cell_type": "code",
   "execution_count": 9,
   "metadata": {
    "id": "K65b9KkWoisH"
   },
   "outputs": [],
   "source": [
    "model.add(Conv2D(32,(3,3), padding='same'))\n",
    "model.add(Activation('relu'))\n",
    "model.add(BatchNormalization())"
   ]
  },
  {
   "cell_type": "code",
   "execution_count": 10,
   "metadata": {
    "id": "OlliOWE8oiuz"
   },
   "outputs": [],
   "source": [
    "model.add(MaxPooling2D(pool_size=(2,2)))"
   ]
  },
  {
   "cell_type": "code",
   "execution_count": 11,
   "metadata": {
    "id": "eBZsJvfLomFL"
   },
   "outputs": [],
   "source": [
    "model.add(Conv2D(32,(3,3), padding='same'))\n",
    "model.add(Activation('relu'))\n",
    "model.add(BatchNormalization())"
   ]
  },
  {
   "cell_type": "code",
   "execution_count": 12,
   "metadata": {
    "id": "jdu_8hF2omIL"
   },
   "outputs": [],
   "source": [
    "model.add(Conv2D(32,(3,3), padding='same'))\n",
    "model.add(Activation('relu'))\n",
    "model.add(BatchNormalization())"
   ]
  },
  {
   "cell_type": "code",
   "execution_count": 13,
   "metadata": {
    "id": "lwxkFuK2omLC"
   },
   "outputs": [],
   "source": [
    "model.add(MaxPooling2D(pool_size=(2,2)))"
   ]
  },
  {
   "cell_type": "code",
   "execution_count": 14,
   "metadata": {
    "id": "0lVFGWjYomOA"
   },
   "outputs": [],
   "source": [
    "model.add(Flatten())"
   ]
  },
  {
   "cell_type": "code",
   "execution_count": 15,
   "metadata": {
    "id": "JP6a9mv0omQo"
   },
   "outputs": [],
   "source": [
    "model.add(Dense(64, activation='relu'))"
   ]
  },
  {
   "cell_type": "code",
   "execution_count": 16,
   "metadata": {
    "id": "DEqhsrO5pOTy"
   },
   "outputs": [],
   "source": [
    "model.add(Dropout(0.5))"
   ]
  },
  {
   "cell_type": "code",
   "execution_count": 17,
   "metadata": {
    "id": "qEZ0BWJDoixW"
   },
   "outputs": [],
   "source": [
    "model.add(Dense(32, activation='relu'))"
   ]
  },
  {
   "cell_type": "code",
   "execution_count": 18,
   "metadata": {
    "id": "WSP5QZI2pQBI"
   },
   "outputs": [],
   "source": [
    "model.add(Dropout(0.5))"
   ]
  },
  {
   "cell_type": "code",
   "execution_count": 19,
   "metadata": {
    "id": "ChOBhaiposkf"
   },
   "outputs": [],
   "source": [
    "model.add(Dense(classes, activation='softmax'))"
   ]
  },
  {
   "cell_type": "code",
   "execution_count": 20,
   "metadata": {
    "colab": {
     "base_uri": "https://localhost:8080/"
    },
    "id": "TDecLM51osnY",
    "outputId": "11e23775-99df-4ea0-8c47-eb99bea83d25"
   },
   "outputs": [
    {
     "name": "stdout",
     "output_type": "stream",
     "text": [
      "Model: \"sequential\"\n",
      "_________________________________________________________________\n",
      " Layer (type)                Output Shape              Param #   \n",
      "=================================================================\n",
      " conv2d (Conv2D)             (None, 128, 128, 32)      896       \n",
      "                                                                 \n",
      " activation (Activation)     (None, 128, 128, 32)      0         \n",
      "                                                                 \n",
      " batch_normalization (BatchN  (None, 128, 128, 32)     128       \n",
      " ormalization)                                                   \n",
      "                                                                 \n",
      " conv2d_1 (Conv2D)           (None, 128, 128, 32)      9248      \n",
      "                                                                 \n",
      " activation_1 (Activation)   (None, 128, 128, 32)      0         \n",
      "                                                                 \n",
      " batch_normalization_1 (Batc  (None, 128, 128, 32)     128       \n",
      " hNormalization)                                                 \n",
      "                                                                 \n",
      " max_pooling2d (MaxPooling2D  (None, 64, 64, 32)       0         \n",
      " )                                                               \n",
      "                                                                 \n",
      " conv2d_2 (Conv2D)           (None, 64, 64, 32)        9248      \n",
      "                                                                 \n",
      " activation_2 (Activation)   (None, 64, 64, 32)        0         \n",
      "                                                                 \n",
      " batch_normalization_2 (Batc  (None, 64, 64, 32)       128       \n",
      " hNormalization)                                                 \n",
      "                                                                 \n",
      " conv2d_3 (Conv2D)           (None, 64, 64, 32)        9248      \n",
      "                                                                 \n",
      " activation_3 (Activation)   (None, 64, 64, 32)        0         \n",
      "                                                                 \n",
      " batch_normalization_3 (Batc  (None, 64, 64, 32)       128       \n",
      " hNormalization)                                                 \n",
      "                                                                 \n",
      " max_pooling2d_1 (MaxPooling  (None, 32, 32, 32)       0         \n",
      " 2D)                                                             \n",
      "                                                                 \n",
      " flatten (Flatten)           (None, 32768)             0         \n",
      "                                                                 \n",
      " dense (Dense)               (None, 64)                2097216   \n",
      "                                                                 \n",
      " dropout (Dropout)           (None, 64)                0         \n",
      "                                                                 \n",
      " dense_1 (Dense)             (None, 32)                2080      \n",
      "                                                                 \n",
      " dropout_1 (Dropout)         (None, 32)                0         \n",
      "                                                                 \n",
      " dense_2 (Dense)             (None, 5)                 165       \n",
      "                                                                 \n",
      "=================================================================\n",
      "Total params: 2,128,613\n",
      "Trainable params: 2,128,357\n",
      "Non-trainable params: 256\n",
      "_________________________________________________________________\n"
     ]
    }
   ],
   "source": [
    "model.summary()"
   ]
  },
  {
   "cell_type": "code",
   "execution_count": 21,
   "metadata": {
    "id": "YUGr-Bcpo0Qe"
   },
   "outputs": [],
   "source": [
    "model.compile(optimizer='adam', loss='binary_crossentropy', metrics=['accuracy'])"
   ]
  },
  {
   "cell_type": "code",
   "execution_count": 22,
   "metadata": {
    "id": "gEqsKTMjpev8"
   },
   "outputs": [],
   "source": [
    "checkpoint_path = \"model_checkpoint.h5\""
   ]
  },
  {
   "cell_type": "code",
   "execution_count": 23,
   "metadata": {
    "id": "WexZs7ZxpfHN"
   },
   "outputs": [],
   "source": [
    "checkpoint_callback = ModelCheckpoint(checkpoint_path,\n",
    "                                      monitor='val_accuracy',\n",
    "                                      save_best_only=True,\n",
    "                                      mode='max',\n",
    "                                      verbose=1)"
   ]
  },
  {
   "cell_type": "code",
   "execution_count": 24,
   "metadata": {
    "id": "0XZrrb6Sp6fU"
   },
   "outputs": [],
   "source": [
    "epochs=10\n",
    "batch_size=32"
   ]
  },
  {
   "cell_type": "code",
   "execution_count": 25,
   "metadata": {
    "id": "izdnpryQp6nI"
   },
   "outputs": [
    {
     "name": "stdout",
     "output_type": "stream",
     "text": [
      "Epoch 1/10\n",
      "400/400 [==============================] - ETA: 0s - loss: 0.6314 - accuracy: 0.1994\n",
      "Epoch 1: val_accuracy improved from -inf to 0.19206, saving model to model_checkpoint.h5\n",
      "400/400 [==============================] - 404s 1s/step - loss: 0.6314 - accuracy: 0.1994 - val_loss: 0.5236 - val_accuracy: 0.1921\n",
      "Epoch 2/10\n",
      "400/400 [==============================] - ETA: 0s - loss: 0.5163 - accuracy: 0.2030\n",
      "Epoch 2: val_accuracy did not improve from 0.19206\n",
      "400/400 [==============================] - 414s 1s/step - loss: 0.5163 - accuracy: 0.2030 - val_loss: 0.5014 - val_accuracy: 0.1921\n",
      "Epoch 3/10\n",
      "400/400 [==============================] - ETA: 0s - loss: 0.5109 - accuracy: 0.2030\n",
      "Epoch 3: val_accuracy improved from 0.19206 to 0.21896, saving model to model_checkpoint.h5\n",
      "400/400 [==============================] - 427s 1s/step - loss: 0.5109 - accuracy: 0.2030 - val_loss: 0.5007 - val_accuracy: 0.2190\n",
      "Epoch 4/10\n",
      "400/400 [==============================] - ETA: 0s - loss: 0.5090 - accuracy: 0.1972\n",
      "Epoch 4: val_accuracy did not improve from 0.21896\n",
      "400/400 [==============================] - 421s 1s/step - loss: 0.5090 - accuracy: 0.1972 - val_loss: 0.5006 - val_accuracy: 0.2190\n",
      "Epoch 5/10\n",
      "400/400 [==============================] - ETA: 0s - loss: 0.5074 - accuracy: 0.2023\n",
      "Epoch 5: val_accuracy did not improve from 0.21896\n",
      "400/400 [==============================] - 419s 1s/step - loss: 0.5074 - accuracy: 0.2023 - val_loss: 0.5005 - val_accuracy: 0.2190\n",
      "Epoch 6/10\n",
      "400/400 [==============================] - ETA: 0s - loss: 0.5063 - accuracy: 0.2032\n",
      "Epoch 6: val_accuracy did not improve from 0.21896\n",
      "400/400 [==============================] - 423s 1s/step - loss: 0.5063 - accuracy: 0.2032 - val_loss: 0.5005 - val_accuracy: 0.2190\n",
      "Epoch 7/10\n",
      "400/400 [==============================] - ETA: 0s - loss: 0.5052 - accuracy: 0.1980\n",
      "Epoch 7: val_accuracy did not improve from 0.21896\n",
      "400/400 [==============================] - 422s 1s/step - loss: 0.5052 - accuracy: 0.1980 - val_loss: 0.5005 - val_accuracy: 0.2190\n",
      "Epoch 8/10\n",
      "400/400 [==============================] - ETA: 0s - loss: 0.5043 - accuracy: 0.2026\n",
      "Epoch 8: val_accuracy did not improve from 0.21896\n",
      "400/400 [==============================] - 419s 1s/step - loss: 0.5043 - accuracy: 0.2026 - val_loss: 0.5004 - val_accuracy: 0.2190\n",
      "Epoch 9/10\n",
      "400/400 [==============================] - ETA: 0s - loss: 0.5036 - accuracy: 0.2044\n",
      "Epoch 9: val_accuracy did not improve from 0.21896\n",
      "400/400 [==============================] - 476s 1s/step - loss: 0.5036 - accuracy: 0.2044 - val_loss: 0.5005 - val_accuracy: 0.2190\n",
      "Epoch 10/10\n",
      "400/400 [==============================] - ETA: 0s - loss: 0.5031 - accuracy: 0.2071\n",
      "Epoch 10: val_accuracy did not improve from 0.21896\n",
      "400/400 [==============================] - 486s 1s/step - loss: 0.5031 - accuracy: 0.2071 - val_loss: 0.5005 - val_accuracy: 0.2190\n"
     ]
    },
    {
     "data": {
      "text/plain": [
       "<keras.callbacks.History at 0x25fd0fa4f70>"
      ]
     },
     "execution_count": 25,
     "metadata": {},
     "output_type": "execute_result"
    }
   ],
   "source": [
    "model.fit(x_train, y_train,\n",
    "          epochs=epochs,\n",
    "          batch_size=batch_size,\n",
    "          validation_data=(x_valid,y_valid),\n",
    "          callbacks=[checkpoint_callback])"
   ]
  },
  {
   "cell_type": "code",
   "execution_count": 26,
   "metadata": {},
   "outputs": [],
   "source": [
    "model.save('model.h5')"
   ]
  },
  {
   "cell_type": "code",
   "execution_count": 28,
   "metadata": {},
   "outputs": [
    {
     "name": "stdout",
     "output_type": "stream",
     "text": [
      "Final Loss: 0.5006, Final Accuracy: 0.2077\n"
     ]
    }
   ],
   "source": [
    "final_loss, final_accuracy = model.evaluate(x_train, y_train, verbose=0)\n",
    "print(f\"Final Loss: {final_loss:.4f}, Final Accuracy: {final_accuracy:.4f}\")"
   ]
  },
  {
   "cell_type": "code",
   "execution_count": null,
   "metadata": {},
   "outputs": [],
   "source": []
  }
 ],
 "metadata": {
  "accelerator": "GPU",
  "colab": {
   "gpuType": "T4",
   "provenance": []
  },
  "kernelspec": {
   "display_name": "Python 3 (ipykernel)",
   "language": "python",
   "name": "python3"
  },
  "language_info": {
   "codemirror_mode": {
    "name": "ipython",
    "version": 3
   },
   "file_extension": ".py",
   "mimetype": "text/x-python",
   "name": "python",
   "nbconvert_exporter": "python",
   "pygments_lexer": "ipython3",
   "version": "3.9.1"
  }
 },
 "nbformat": 4,
 "nbformat_minor": 1
}
